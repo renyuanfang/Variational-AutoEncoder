{
 "cells": [
  {
   "cell_type": "code",
   "execution_count": 1,
   "metadata": {},
   "outputs": [
    {
     "name": "stderr",
     "output_type": "stream",
     "text": [
      "Using TensorFlow backend.\n"
     ]
    }
   ],
   "source": [
    "import numpy as np\n",
    "from keras.layers import *\n",
    "from keras.models import Model\n",
    "from keras import backend as K\n",
    "import imageio, os\n",
    "from keras.datasets import mnist"
   ]
  },
  {
   "cell_type": "code",
   "execution_count": 2,
   "metadata": {},
   "outputs": [],
   "source": [
    "batch_size = 128\n",
    "latent_dim = 20\n",
    "epochs = 50\n",
    "num_classes = 10\n",
    "img_dim = 28\n",
    "filters = 16\n",
    "intermediate_dim = 256"
   ]
  },
  {
   "cell_type": "code",
   "execution_count": 3,
   "metadata": {},
   "outputs": [],
   "source": [
    "(x_train, y_train), (x_test, y_test) = mnist.load_data()\n",
    "x_train = x_train.astype('float32') / 255.\n",
    "x_test = x_test.astype('float32') / 255.\n",
    "x_train = x_train.reshape((-1, img_dim, img_dim, 1))\n",
    "x_test = x_test.reshape((-1, img_dim, img_dim, 1))"
   ]
  },
  {
   "cell_type": "code",
   "execution_count": 4,
   "metadata": {},
   "outputs": [],
   "source": [
    "#encoder\n",
    "x = Input(shape = (img_dim, img_dim, 1))\n",
    "h = x\n",
    "for i in range(2):\n",
    "    filters *= 2\n",
    "    h = Conv2D(filters = filters, kernel_size = 3, strides = 2, padding = 'same')(h)\n",
    "    h = LeakyReLU(0.2)(h)\n",
    "    h = Conv2D(filters = filters, kernel_size = 3, strides = 1, padding = 'same')(h)\n",
    "    h = LeakyReLU(0.2)(h)\n",
    "\n",
    "h_shape = K.int_shape(h)[1:]\n",
    "h = Flatten()(h)\n",
    "z_mean = Dense(latent_dim)(h) #mean of p(z|x)\n",
    "z_log_var = Dense(latent_dim)(h) #log variance of p(z|x)\n",
    "encoder = Model(x, z_mean)"
   ]
  },
  {
   "cell_type": "code",
   "execution_count": 5,
   "metadata": {},
   "outputs": [
    {
     "name": "stdout",
     "output_type": "stream",
     "text": [
      "_________________________________________________________________\n",
      "Layer (type)                 Output Shape              Param #   \n",
      "=================================================================\n",
      "input_1 (InputLayer)         (None, 28, 28, 1)         0         \n",
      "_________________________________________________________________\n",
      "conv2d_1 (Conv2D)            (None, 14, 14, 32)        320       \n",
      "_________________________________________________________________\n",
      "leaky_re_lu_1 (LeakyReLU)    (None, 14, 14, 32)        0         \n",
      "_________________________________________________________________\n",
      "conv2d_2 (Conv2D)            (None, 14, 14, 32)        9248      \n",
      "_________________________________________________________________\n",
      "leaky_re_lu_2 (LeakyReLU)    (None, 14, 14, 32)        0         \n",
      "_________________________________________________________________\n",
      "conv2d_3 (Conv2D)            (None, 7, 7, 64)          18496     \n",
      "_________________________________________________________________\n",
      "leaky_re_lu_3 (LeakyReLU)    (None, 7, 7, 64)          0         \n",
      "_________________________________________________________________\n",
      "conv2d_4 (Conv2D)            (None, 7, 7, 64)          36928     \n",
      "_________________________________________________________________\n",
      "leaky_re_lu_4 (LeakyReLU)    (None, 7, 7, 64)          0         \n",
      "_________________________________________________________________\n",
      "flatten_1 (Flatten)          (None, 3136)              0         \n",
      "_________________________________________________________________\n",
      "dense_1 (Dense)              (None, 20)                62740     \n",
      "=================================================================\n",
      "Total params: 127,732\n",
      "Trainable params: 127,732\n",
      "Non-trainable params: 0\n",
      "_________________________________________________________________\n"
     ]
    }
   ],
   "source": [
    "encoder.summary()"
   ]
  },
  {
   "cell_type": "code",
   "execution_count": 6,
   "metadata": {},
   "outputs": [],
   "source": [
    "#decoder\n",
    "z = Input(shape = (latent_dim,))\n",
    "h = z\n",
    "h = Dense(np.prod(h_shape))(h)\n",
    "h = Reshape(h_shape)(h)"
   ]
  },
  {
   "cell_type": "code",
   "execution_count": 7,
   "metadata": {},
   "outputs": [
    {
     "name": "stdout",
     "output_type": "stream",
     "text": [
      "_________________________________________________________________\n",
      "Layer (type)                 Output Shape              Param #   \n",
      "=================================================================\n",
      "input_2 (InputLayer)         (None, 20)                0         \n",
      "_________________________________________________________________\n",
      "dense_3 (Dense)              (None, 3136)              65856     \n",
      "_________________________________________________________________\n",
      "reshape_1 (Reshape)          (None, 7, 7, 64)          0         \n",
      "_________________________________________________________________\n",
      "conv2d_transpose_1 (Conv2DTr (None, 7, 7, 64)          36928     \n",
      "_________________________________________________________________\n",
      "leaky_re_lu_5 (LeakyReLU)    (None, 7, 7, 64)          0         \n",
      "_________________________________________________________________\n",
      "conv2d_transpose_2 (Conv2DTr (None, 14, 14, 64)        36928     \n",
      "_________________________________________________________________\n",
      "leaky_re_lu_6 (LeakyReLU)    (None, 14, 14, 64)        0         \n",
      "_________________________________________________________________\n",
      "conv2d_transpose_3 (Conv2DTr (None, 14, 14, 32)        18464     \n",
      "_________________________________________________________________\n",
      "leaky_re_lu_7 (LeakyReLU)    (None, 14, 14, 32)        0         \n",
      "_________________________________________________________________\n",
      "conv2d_transpose_4 (Conv2DTr (None, 28, 28, 32)        9248      \n",
      "_________________________________________________________________\n",
      "leaky_re_lu_8 (LeakyReLU)    (None, 28, 28, 32)        0         \n",
      "_________________________________________________________________\n",
      "conv2d_transpose_5 (Conv2DTr (None, 28, 28, 1)         289       \n",
      "=================================================================\n",
      "Total params: 167,713\n",
      "Trainable params: 167,713\n",
      "Non-trainable params: 0\n",
      "_________________________________________________________________\n"
     ]
    }
   ],
   "source": [
    "for i in range(2):\n",
    "    h = Conv2DTranspose(filters = filters, kernel_size=3, strides = 1, padding = 'same')(h)\n",
    "    h = LeakyReLU(0.2)(h)\n",
    "    h = Conv2DTranspose(filters = filters, kernel_size=3, strides = 2, padding = 'same')(h)\n",
    "    h = LeakyReLU(0.2)(h)\n",
    "    filters //= 2\n",
    "\n",
    "x_recon = Conv2DTranspose(filters = 1, kernel_size = 3, activation = 'sigmoid', padding = 'same')(h)\n",
    "decoder = Model(z, x_recon)\n",
    "decoder.summary()"
   ]
  },
  {
   "cell_type": "code",
   "execution_count": 9,
   "metadata": {},
   "outputs": [],
   "source": [
    "z = Input(shape = (latent_dim,))\n",
    "y = Dense(intermediate_dim, activation = 'relu')(z)\n",
    "y = Dense(num_classes, activation='softmax')(y)\n",
    "\n",
    "classifier = Model(z, y)"
   ]
  },
  {
   "cell_type": "code",
   "execution_count": 12,
   "metadata": {},
   "outputs": [],
   "source": [
    "def sampling(args):\n",
    "    z_mean, z_log_var = args\n",
    "    epsilion = K.random_normal(shape = K.shape(z_mean))\n",
    "    return z_mean + K.exp(z_log_var / 2) * epsilion"
   ]
  },
  {
   "cell_type": "code",
   "execution_count": 13,
   "metadata": {},
   "outputs": [],
   "source": [
    "z = Lambda(sampling, output_shape = (latent_dim,))([z_mean, z_log_var])\n",
    "x_recon = decoder(z)\n",
    "y = classifier(z)"
   ]
  },
  {
   "cell_type": "code",
   "execution_count": 29,
   "metadata": {},
   "outputs": [],
   "source": [
    "class Gaussian(Layer):\n",
    "    #define the mean value of q(z|y), every class has a mean value\n",
    "    #output z - mu\n",
    "    def __init__(self, num_classes, **kwargs):\n",
    "        self.num_classes = num_classes\n",
    "        super(Gaussian, self).__init__(**kwargs)\n",
    "    \n",
    "    def build(self, input_shape):\n",
    "        latent_dim = input_shape[-1]\n",
    "        self.mean = self.add_weight(name = 'mean',\n",
    "                                   shape = (self.num_classes, latent_dim),\n",
    "                                   initializer = 'zeros')\n",
    "    \n",
    "    #function\n",
    "    def call(self, inputs):\n",
    "        z = inputs #z.shape = (batch_size, latent_dim)\n",
    "        z = K.expand_dims(z, 1) #(batch_size, 1, latent_dim)\n",
    "        return z - K.expand_dims(self.mean, 0)\n",
    "    \n",
    "    def compute_output_shape(self, input_shape):\n",
    "        return (None, self.num_classes, input_shape[-1])"
   ]
  },
  {
   "cell_type": "code",
   "execution_count": 30,
   "metadata": {},
   "outputs": [],
   "source": [
    "gaussian = Gaussian(num_classes)\n",
    "z_prior_mean = gaussian(z)"
   ]
  },
  {
   "cell_type": "code",
   "execution_count": 31,
   "metadata": {},
   "outputs": [],
   "source": [
    "vae = Model(x, [x_recon, z_prior_mean, y])"
   ]
  },
  {
   "cell_type": "code",
   "execution_count": 32,
   "metadata": {},
   "outputs": [
    {
     "name": "stdout",
     "output_type": "stream",
     "text": [
      "__________________________________________________________________________________________________\n",
      "Layer (type)                    Output Shape         Param #     Connected to                     \n",
      "==================================================================================================\n",
      "input_1 (InputLayer)            (None, 28, 28, 1)    0                                            \n",
      "__________________________________________________________________________________________________\n",
      "conv2d_1 (Conv2D)               (None, 14, 14, 32)   320         input_1[0][0]                    \n",
      "__________________________________________________________________________________________________\n",
      "leaky_re_lu_1 (LeakyReLU)       (None, 14, 14, 32)   0           conv2d_1[0][0]                   \n",
      "__________________________________________________________________________________________________\n",
      "conv2d_2 (Conv2D)               (None, 14, 14, 32)   9248        leaky_re_lu_1[0][0]              \n",
      "__________________________________________________________________________________________________\n",
      "leaky_re_lu_2 (LeakyReLU)       (None, 14, 14, 32)   0           conv2d_2[0][0]                   \n",
      "__________________________________________________________________________________________________\n",
      "conv2d_3 (Conv2D)               (None, 7, 7, 64)     18496       leaky_re_lu_2[0][0]              \n",
      "__________________________________________________________________________________________________\n",
      "leaky_re_lu_3 (LeakyReLU)       (None, 7, 7, 64)     0           conv2d_3[0][0]                   \n",
      "__________________________________________________________________________________________________\n",
      "conv2d_4 (Conv2D)               (None, 7, 7, 64)     36928       leaky_re_lu_3[0][0]              \n",
      "__________________________________________________________________________________________________\n",
      "leaky_re_lu_4 (LeakyReLU)       (None, 7, 7, 64)     0           conv2d_4[0][0]                   \n",
      "__________________________________________________________________________________________________\n",
      "flatten_1 (Flatten)             (None, 3136)         0           leaky_re_lu_4[0][0]              \n",
      "__________________________________________________________________________________________________\n",
      "dense_1 (Dense)                 (None, 20)           62740       flatten_1[0][0]                  \n",
      "__________________________________________________________________________________________________\n",
      "dense_2 (Dense)                 (None, 20)           62740       flatten_1[0][0]                  \n",
      "__________________________________________________________________________________________________\n",
      "lambda_2 (Lambda)               (None, 20)           0           dense_1[0][0]                    \n",
      "                                                                 dense_2[0][0]                    \n",
      "__________________________________________________________________________________________________\n",
      "model_2 (Model)                 (None, 28, 28, 1)    167713      lambda_2[0][0]                   \n",
      "__________________________________________________________________________________________________\n",
      "gaussian_6 (Gaussian)           (None, 10, 20)       200         lambda_2[0][0]                   \n",
      "__________________________________________________________________________________________________\n",
      "model_3 (Model)                 (None, 10)           7946        lambda_2[0][0]                   \n",
      "==================================================================================================\n",
      "Total params: 366,331\n",
      "Trainable params: 366,331\n",
      "Non-trainable params: 0\n",
      "__________________________________________________________________________________________________\n"
     ]
    }
   ],
   "source": [
    "vae.summary()"
   ]
  },
  {
   "cell_type": "code",
   "execution_count": 33,
   "metadata": {},
   "outputs": [],
   "source": [
    "#compute loss\n",
    "z_mean = K.expand_dims(z_mean, 1)\n",
    "z_log_var = K.expand_dims(z_log_var, 1)\n",
    "\n",
    "lamb = 2.5 #weight of the reconstruction error\n",
    "recon_loss = 0.5 * K.mean((x - x_recon)**2, 0)"
   ]
  },
  {
   "cell_type": "code",
   "execution_count": 41,
   "metadata": {},
   "outputs": [],
   "source": [
    "kl_loss = -0.5 * (z_log_var - K.square(z_prior_mean))\n",
    "kl_loss = K.mean(K.batch_dot(K.expand_dims(y, 1), kl_loss), 0)"
   ]
  },
  {
   "cell_type": "code",
   "execution_count": 43,
   "metadata": {},
   "outputs": [],
   "source": [
    "cat_loss = K.mean(y * K.log(y+K.epsilon()), 0)"
   ]
  },
  {
   "cell_type": "code",
   "execution_count": 44,
   "metadata": {},
   "outputs": [],
   "source": [
    "vae_loss = lamb * K.sum(recon_loss) + K.sum(kl_loss) + K.sum(cat_loss)"
   ]
  },
  {
   "cell_type": "code",
   "execution_count": 45,
   "metadata": {},
   "outputs": [],
   "source": [
    "vae.add_loss(vae_loss)\n",
    "vae.compile(optimizer = 'adam')"
   ]
  },
  {
   "cell_type": "code",
   "execution_count": 46,
   "metadata": {},
   "outputs": [
    {
     "name": "stdout",
     "output_type": "stream",
     "text": [
      "Train on 60000 samples, validate on 10000 samples\n",
      "Epoch 1/50\n",
      "60000/60000 [==============================] - 168s 3ms/step - loss: 61.0568 - val_loss: 44.5017\n",
      "Epoch 2/50\n",
      "60000/60000 [==============================] - 183s 3ms/step - loss: 43.1750 - val_loss: 41.9416\n",
      "Epoch 3/50\n",
      "60000/60000 [==============================] - 189s 3ms/step - loss: 41.6803 - val_loss: 41.0116\n",
      "Epoch 4/50\n",
      "60000/60000 [==============================] - 192s 3ms/step - loss: 40.9738 - val_loss: 40.4201\n",
      "Epoch 5/50\n",
      "60000/60000 [==============================] - 193s 3ms/step - loss: 40.3801 - val_loss: 39.9797\n",
      "Epoch 6/50\n",
      "60000/60000 [==============================] - 194s 3ms/step - loss: 39.9265 - val_loss: 39.6043\n",
      "Epoch 7/50\n",
      "60000/60000 [==============================] - 194s 3ms/step - loss: 39.5612 - val_loss: 39.2011\n",
      "Epoch 8/50\n",
      "60000/60000 [==============================] - 154s 3ms/step - loss: 39.2769 - val_loss: 38.8481\n",
      "Epoch 9/50\n",
      "60000/60000 [==============================] - 152s 3ms/step - loss: 39.0213 - val_loss: 38.6964\n",
      "Epoch 10/50\n",
      "60000/60000 [==============================] - 167s 3ms/step - loss: 38.7842 - val_loss: 38.4896\n",
      "Epoch 11/50\n",
      "60000/60000 [==============================] - 162s 3ms/step - loss: 38.6319 - val_loss: 38.4657\n",
      "Epoch 12/50\n",
      "60000/60000 [==============================] - 162s 3ms/step - loss: 38.4449 - val_loss: 38.2765\n",
      "Epoch 13/50\n",
      "60000/60000 [==============================] - 162s 3ms/step - loss: 38.3279 - val_loss: 38.7680\n",
      "Epoch 14/50\n",
      "60000/60000 [==============================] - 163s 3ms/step - loss: 38.1803 - val_loss: 37.9908\n",
      "Epoch 15/50\n",
      "60000/60000 [==============================] - 162s 3ms/step - loss: 38.0633 - val_loss: 38.0820\n",
      "Epoch 16/50\n",
      "60000/60000 [==============================] - 164s 3ms/step - loss: 38.0071 - val_loss: 37.9040\n",
      "Epoch 17/50\n",
      "60000/60000 [==============================] - 646s 11ms/step - loss: 37.8803 - val_loss: 37.7478\n",
      "Epoch 18/50\n",
      "60000/60000 [==============================] - 155s 3ms/step - loss: 37.7997 - val_loss: 37.6014\n",
      "Epoch 19/50\n",
      "60000/60000 [==============================] - 155s 3ms/step - loss: 37.7140 - val_loss: 37.5699\n",
      "Epoch 20/50\n",
      "60000/60000 [==============================] - 156s 3ms/step - loss: 37.6705 - val_loss: 37.4226\n",
      "Epoch 21/50\n",
      "60000/60000 [==============================] - 156s 3ms/step - loss: 37.5887 - val_loss: 37.6847\n",
      "Epoch 22/50\n",
      "60000/60000 [==============================] - 156s 3ms/step - loss: 37.5204 - val_loss: 37.4174\n",
      "Epoch 23/50\n",
      "60000/60000 [==============================] - 159s 3ms/step - loss: 37.4726 - val_loss: 37.3625\n",
      "Epoch 24/50\n",
      "60000/60000 [==============================] - 172s 3ms/step - loss: 37.4115 - val_loss: 37.3875\n",
      "Epoch 25/50\n",
      "60000/60000 [==============================] - 169s 3ms/step - loss: 37.3342 - val_loss: 37.2483\n",
      "Epoch 26/50\n",
      "60000/60000 [==============================] - 169s 3ms/step - loss: 37.2891 - val_loss: 37.1923\n",
      "Epoch 27/50\n",
      "60000/60000 [==============================] - 169s 3ms/step - loss: 37.2350 - val_loss: 37.1766\n",
      "Epoch 28/50\n",
      "60000/60000 [==============================] - 170s 3ms/step - loss: 37.1902 - val_loss: 37.1179\n",
      "Epoch 29/50\n",
      "60000/60000 [==============================] - 171s 3ms/step - loss: 37.1254 - val_loss: 37.1424\n",
      "Epoch 30/50\n",
      "60000/60000 [==============================] - 181s 3ms/step - loss: 37.1246 - val_loss: 37.0265\n",
      "Epoch 31/50\n",
      "60000/60000 [==============================] - 181s 3ms/step - loss: 37.0519 - val_loss: 37.1668\n",
      "Epoch 32/50\n",
      "60000/60000 [==============================] - 181s 3ms/step - loss: 37.0320 - val_loss: 37.0630\n",
      "Epoch 33/50\n",
      "60000/60000 [==============================] - 179s 3ms/step - loss: 37.0014 - val_loss: 36.9688\n",
      "Epoch 34/50\n",
      "60000/60000 [==============================] - 169s 3ms/step - loss: 36.9649 - val_loss: 37.1472\n",
      "Epoch 35/50\n",
      "60000/60000 [==============================] - 169s 3ms/step - loss: 36.9179 - val_loss: 36.8392\n",
      "Epoch 36/50\n",
      "60000/60000 [==============================] - 166s 3ms/step - loss: 36.8873 - val_loss: 36.8304\n",
      "Epoch 37/50\n",
      "60000/60000 [==============================] - 161s 3ms/step - loss: 36.8469 - val_loss: 36.9197\n",
      "Epoch 38/50\n",
      "60000/60000 [==============================] - 162s 3ms/step - loss: 36.8218 - val_loss: 36.8542\n",
      "Epoch 39/50\n",
      "60000/60000 [==============================] - 170s 3ms/step - loss: 36.7964 - val_loss: 36.8804\n",
      "Epoch 40/50\n",
      "60000/60000 [==============================] - 170s 3ms/step - loss: 36.7923 - val_loss: 36.9059\n",
      "Epoch 41/50\n",
      "60000/60000 [==============================] - 162s 3ms/step - loss: 36.7649 - val_loss: 36.8870\n",
      "Epoch 42/50\n",
      "60000/60000 [==============================] - 161s 3ms/step - loss: 36.7338 - val_loss: 36.9620\n",
      "Epoch 43/50\n",
      "60000/60000 [==============================] - 161s 3ms/step - loss: 36.7276 - val_loss: 36.6609\n",
      "Epoch 44/50\n",
      "60000/60000 [==============================] - 166s 3ms/step - loss: 36.6724 - val_loss: 37.0375\n",
      "Epoch 45/50\n",
      "60000/60000 [==============================] - 173s 3ms/step - loss: 36.6861 - val_loss: 36.6282\n",
      "Epoch 46/50\n",
      "60000/60000 [==============================] - 165s 3ms/step - loss: 36.6111 - val_loss: 36.6286\n",
      "Epoch 47/50\n",
      "60000/60000 [==============================] - 169s 3ms/step - loss: 36.6369 - val_loss: 36.7225\n",
      "Epoch 48/50\n",
      "60000/60000 [==============================] - 179s 3ms/step - loss: 36.6158 - val_loss: 36.5977\n",
      "Epoch 49/50\n",
      "60000/60000 [==============================] - 182s 3ms/step - loss: 36.5836 - val_loss: 36.7005\n",
      "Epoch 50/50\n",
      "60000/60000 [==============================] - 198s 3ms/step - loss: 36.5730 - val_loss: 36.5515\n"
     ]
    },
    {
     "data": {
      "text/plain": [
       "<keras.callbacks.History at 0x7f0b24a2bcf8>"
      ]
     },
     "execution_count": 46,
     "metadata": {},
     "output_type": "execute_result"
    }
   ],
   "source": [
    "vae.fit(x_train,\n",
    "       shuffle = True,\n",
    "       epochs = epochs,\n",
    "       batch_size = batch_size,\n",
    "       validation_data = (x_test, None))"
   ]
  },
  {
   "cell_type": "code",
   "execution_count": 47,
   "metadata": {},
   "outputs": [],
   "source": [
    "means = K.eval(gaussian.mean)\n",
    "x_train_encoded = encoder.predict(x_train)\n",
    "y_train_pred = classifier.predict(x_train_encoded).argmax(axis = 1)\n",
    "x_test_encoded = encoder.predict(x_test)\n",
    "y_test_pred = classifier.predict(x_test_encoded).argmax(axis = 1)"
   ]
  },
  {
   "cell_type": "code",
   "execution_count": 53,
   "metadata": {},
   "outputs": [],
   "source": [
    "#observe the samples belonging to the same category\n",
    "def cluster_sample(path, category = 0):\n",
    "    n = 8\n",
    "    figure = np.zeros((img_dim*n, img_dim*n))\n",
    "    idxs = np.where(y_train_pred == category)[0]\n",
    "    for i in range(n):\n",
    "        for j in range(n):\n",
    "            digit = x_train[np.random.choice(idxs)]\n",
    "            digit = digit.reshape((img_dim, img_dim))\n",
    "            figure[i * img_dim : (i+1) * img_dim, j * img_dim : (j+1) * img_dim] = digit\n",
    "    imageio.imwrite(path, figure * 255)"
   ]
  },
  {
   "cell_type": "code",
   "execution_count": 56,
   "metadata": {},
   "outputs": [],
   "source": [
    "#generate specific category image based on the mean value of each class\n",
    "def random_sample(path, category = 0, std = 1.):\n",
    "    n = 8\n",
    "    figure = np.zeros((img_dim*n, img_dim*n))\n",
    "    for i in range(n):\n",
    "        for j in range(n):\n",
    "            z_sample = np.array(np.random.randn((1, latent_dim))) * std + mean[category]\n",
    "            digit = decoder.predict(z_sample)\n",
    "            digit = digit[0].reshape((img_dim, img_dim))\n",
    "            figure[i * img_dim : (i+1) * img_dim, j * img_dim : (j+1) * img_dim] = digit\n",
    "    imageio.imwrite(path, figure * 255)"
   ]
  },
  {
   "cell_type": "code",
   "execution_count": 51,
   "metadata": {},
   "outputs": [],
   "source": [
    "if not os.path.exists('samples'):\n",
    "    os.mkdir('samples')"
   ]
  },
  {
   "cell_type": "code",
   "execution_count": 58,
   "metadata": {},
   "outputs": [
    {
     "name": "stderr",
     "output_type": "stream",
     "text": [
      "Lossy conversion from float64 to uint8. Range [0.0, 255.0]. Convert image to uint8 prior to saving to suppress this warning.\n",
      "Lossy conversion from float64 to uint8. Range [0.0, 255.0]. Convert image to uint8 prior to saving to suppress this warning.\n",
      "Lossy conversion from float64 to uint8. Range [0.0, 255.0]. Convert image to uint8 prior to saving to suppress this warning.\n",
      "Lossy conversion from float64 to uint8. Range [0.0, 255.0]. Convert image to uint8 prior to saving to suppress this warning.\n",
      "Lossy conversion from float64 to uint8. Range [0.0, 255.0]. Convert image to uint8 prior to saving to suppress this warning.\n",
      "Lossy conversion from float64 to uint8. Range [0.0, 255.0]. Convert image to uint8 prior to saving to suppress this warning.\n",
      "Lossy conversion from float64 to uint8. Range [0.0, 255.0]. Convert image to uint8 prior to saving to suppress this warning.\n",
      "Lossy conversion from float64 to uint8. Range [0.0, 255.0]. Convert image to uint8 prior to saving to suppress this warning.\n",
      "Lossy conversion from float64 to uint8. Range [0.0, 255.0]. Convert image to uint8 prior to saving to suppress this warning.\n",
      "Lossy conversion from float64 to uint8. Range [0.0, 255.0]. Convert image to uint8 prior to saving to suppress this warning.\n"
     ]
    }
   ],
   "source": [
    "for i in range(num_classes): \n",
    "    cluster_sample('samples/clustering_%s.png' % i, i)"
   ]
  },
  {
   "cell_type": "code",
   "execution_count": null,
   "metadata": {},
   "outputs": [],
   "source": [
    "#calculate accuracy\n",
    "right = 0.\n",
    "for i in range(10):\n",
    "    a = np.bincount(y_train[y_train_pred == i])\n",
    "    right += a[i]\n",
    "print 'train acc: %s' % (right / len(y_train))"
   ]
  },
  {
   "cell_type": "code",
   "execution_count": null,
   "metadata": {},
   "outputs": [],
   "source": [
    "right = 0.\n",
    "for i in range(10):\n",
    "    a = np.bincount(y_test[y_test_pred == i])\n",
    "    right += a[i]\n",
    "print 'test acc: %s' % (right / len(y_test))"
   ]
  }
 ],
 "metadata": {
  "kernelspec": {
   "display_name": "Python 3",
   "language": "python",
   "name": "python3"
  },
  "language_info": {
   "codemirror_mode": {
    "name": "ipython",
    "version": 3
   },
   "file_extension": ".py",
   "mimetype": "text/x-python",
   "name": "python",
   "nbconvert_exporter": "python",
   "pygments_lexer": "ipython3",
   "version": "3.6.8"
  }
 },
 "nbformat": 4,
 "nbformat_minor": 2
}
